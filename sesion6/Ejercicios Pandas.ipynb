{
 "cells": [
  {
   "cell_type": "markdown",
   "metadata": {},
   "source": [
    "# Ejercicios con Pandas\n",
    "\n",
    "En la siguiente sección aprenderemos a utilizar pandas a través de la exploración y análisis de tres diferentes set de datos.\n",
    "\n",
    "1. u.users, una tabla de datos con la que aprenderemos a explorar los datos.\n",
    "2. US - Baby Names, con lo que obtendremos datos estadisticos.\n",
    "3. Google Finance, para el analisis de precios de acciones\n",
    "\n",
    "\n",
    "## Explorando datos\n",
    "\n",
    "Usaremos la tabla del siguiente [link](https://raw.githubusercontent.com/justmarkham/DAT8/master/data/u.user), luego de cargar la tabla utilizaremos los diferentes métodos que nos entrega los DataFrame para responder las siguientes preguntas.\n",
    "\n",
    "### Preguntas\n",
    "\n",
    "1. ¿Cuáles son las primeras 25 entradas?\n",
    "2. ¿Cuáles son las últimas 25 entradas?\n",
    "3. ¿Cuántas entradas totales tiene la tabla de datos?\n",
    "4. ¿Cuántas columnas posee la tabla?\n",
    "5. ¿Cuáles son los nombres de las columnas?\n",
    "6. ¿Cuáles son los indices de la tabla?\n",
    "7. ¿Cuáles son los tipos de cada columna?\n",
    "8. Mostrar solo la columna de age, luego mostrar dos columnas 'occupation' y 'gender'\n",
    "9. ¿Cuántas ocupaciones distintas hay en la tabla?\n",
    "10. ¿Hay más hombres que mujeres?\n",
    "11. ¿Cuál es la edad promedio?\n",
    "12. Resumen estadistico de la edad\n",
    "13. ¿Cuál es la ocupación más frecuente?\n",
    "14. ¿Cuál es la edad menos frecuente?\n",
    "\n",
    "Para comenzar debemos importar pandas y cargar los datos."
   ]
  },
  {
   "cell_type": "code",
   "execution_count": 1,
   "metadata": {},
   "outputs": [],
   "source": [
    "import pandas as pd\n",
    "import matplotlib.pyplot as plt\n",
    "\n",
    "%matplotlib inline"
   ]
  },
  {
   "cell_type": "code",
   "execution_count": 2,
   "metadata": {},
   "outputs": [],
   "source": [
    "users = pd.read_table('https://raw.githubusercontent.com/justmarkham/DAT8/master/data/u.user', \n",
    "                      sep='|', index_col='user_id')"
   ]
  },
  {
   "cell_type": "markdown",
   "metadata": {},
   "source": [
    "### Respuestas"
   ]
  },
  {
   "cell_type": "code",
   "execution_count": null,
   "metadata": {},
   "outputs": [],
   "source": []
  },
  {
   "cell_type": "markdown",
   "metadata": {},
   "source": [
    "## Obteniendo datos estadisticos\n",
    "\n",
    "El siguiente conjunto de datos los obtendremos desde este [link](https://raw.githubusercontent.com/guipsamora/pandas_exercises/master/06_Stats/US_Baby_Names/US_Baby_Names_right.csv). Esta contiene los nombres de los bebés nacidos en estados unidos desde el 2004 al 2014."
   ]
  },
  {
   "cell_type": "code",
   "execution_count": null,
   "metadata": {},
   "outputs": [
    {
     "name": "stdout",
     "output_type": "stream",
     "text": [
      "<class 'pandas.core.frame.DataFrame'>\n",
      "RangeIndex: 1016395 entries, 0 to 1016394\n",
      "Data columns (total 5 columns):\n",
      "Name      1016395 non-null object\n",
      "Year      1016395 non-null int64\n",
      "Gender    1016395 non-null object\n",
      "State     1016395 non-null object\n",
      "Count     1016395 non-null int64\n",
      "dtypes: int64(2), object(3)\n",
      "memory usage: 38.8+ MB\n"
     ]
    }
   ],
   "source": [
    "baby_names = pd.read_csv('https://raw.githubusercontent.com/guipsamora/pandas_exercises/master/06_Stats/US_Baby_Names/US_Baby_Names_right.csv')\n",
    "\n",
    "del baby_names['Unnamed: 0']\n",
    "del baby_names['Id']\n",
    "\n",
    "baby_names.info()"
   ]
  },
  {
   "cell_type": "markdown",
   "metadata": {},
   "source": [
    "### Preguntas\n",
    "\n",
    "1. Comience con una exploración de los datos, los primeros datos, columnas, índices y cantidad de datos.\n",
    "2. ¿Hay más hombres o mujeres?\n",
    "3. ¿Cuantos bebés hay por nombre?\n",
    "4. ¿Cuantos nombres hay?\n",
    "5. ¿Cuál es el nombre más popular? ¿y solo masculino? ¿y femenino?\n",
    "6. ¿Cuál es la media de los nombres? ¿Cuáles nombres están en la media?\n",
    "7. ¿Cuántos bebés han nacido por estado?\n"
   ]
  },
  {
   "cell_type": "markdown",
   "metadata": {},
   "source": [
    "### Respuestas"
   ]
  },
  {
   "cell_type": "code",
   "execution_count": null,
   "metadata": {},
   "outputs": [],
   "source": []
  },
  {
   "cell_type": "markdown",
   "metadata": {},
   "source": [
    "## Acciones de Apple\n",
    "\n",
    "Finalmente analizaremos los datos historicos de las acciones de Apple\n",
    "\n"
   ]
  },
  {
   "cell_type": "code",
   "execution_count": 52,
   "metadata": {},
   "outputs": [],
   "source": [
    "apple = pd.read_csv(\"./src/APPL.csv\")\n",
    "\n",
    "apple.Date = apple.Date.apply(pd.to_datetime)\n",
    "\n",
    "apple = apple.set_index(\"Date\")\n"
   ]
  },
  {
   "cell_type": "markdown",
   "metadata": {},
   "source": [
    "### Preguntas\n",
    "\n",
    "1. ¿Cuáles son las columnas del DataFrame?\n",
    "2. Mostrar un gráfico que muestre la evolución de los campos 'Close', 'High' y 'Low'.\n",
    "3. Agrupe los datos por semanas y años\n",
    "4. ¿Cuáles fueron los volumenes que se transaron durante cada año?\n",
    "5. Calcule la volatilidad de los precios de cierre"
   ]
  },
  {
   "cell_type": "markdown",
   "metadata": {},
   "source": [
    "### Respuestas"
   ]
  },
  {
   "cell_type": "code",
   "execution_count": null,
   "metadata": {},
   "outputs": [],
   "source": []
  }
 ],
 "metadata": {
  "kernelspec": {
   "display_name": "Python 3",
   "language": "python",
   "name": "python3"
  },
  "language_info": {
   "codemirror_mode": {
    "name": "ipython",
    "version": 3
   },
   "file_extension": ".py",
   "mimetype": "text/x-python",
   "name": "python",
   "nbconvert_exporter": "python",
   "pygments_lexer": "ipython3",
   "version": "3.6.4"
  }
 },
 "nbformat": 4,
 "nbformat_minor": 2
}
