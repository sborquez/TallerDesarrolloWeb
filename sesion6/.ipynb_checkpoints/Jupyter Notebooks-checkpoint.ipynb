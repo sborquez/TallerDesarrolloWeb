{
 "cells": [
  {
   "cell_type": "markdown",
   "metadata": {},
   "source": [
    "<center><h1>Jupyter Notebooks</h1></center>\n",
    "\n",
    "\n",
    "\n",
    "## ¿Qué son los jupyter notebooks?\n",
    "\n",
    "Un (jupyter notebook)[https://jupyter-notebook.readthedocs.io/en/stable/] es un documento con extensión __.ipynb__ que nos perimite la ejecución de código de python de manera interactiva y mostrar resultados de una manera ordenada y fácil de compartir. Son el producto la aplicación de jupyter notebook, un servidor que corre en nuestra máquina y nos permite la edición y visualización de estos documentos en nuestro navegador. Jupyter Notebook se ha vuelto popular en los últimos años, y se debe a que nos permite realizar analisis de manera interactiva; mostrar resultados acompañados de texto enriquezido (html y markdown), images, videos y gráficos; Ser fácil de compartir resultados reproducibles.\n",
    "\n",
    "## Instalación\n",
    "\n",
    "Para instalar la aplicación podremos hacerlo a través de _anaconda navigator_, también podemos utilizar el comando de conda:\n",
    "\n",
    "```bash\n",
    "conda install jupyter\n",
    "```\n",
    "\n",
    "O bien usando pip\n",
    "\n",
    "```bash\n",
    "pip install jupyter\n",
    "```\n",
    "\n",
    "### Iniciar la aplicación\n",
    "\n",
    "Para ejecutar la aplicación basta con usar el siguiente comando en el directorio donde se desean guardar (o abrir) los notebooks.\n",
    "\n",
    "```bash\n",
    "jupyter notebook\n",
    "``` \n",
    "\n",
    "Se nos abrirá una pestaña del navegador, en esta se muestran el contenido del directorio elegido y opcones para crear nuevos notebooks.\n",
    "\n",
    "\n",
    "### Lo básico\n",
    "\n",
    "Partiremos por el __User Interfase tour__ que se encuentra en la pestaña de ayuda (help) de la aplicación.\n",
    "\n",
    "Un notebooks consiste de bloques de código independientes llamadas celdas, existen dos tipos de celdas\n",
    "\n",
    "#### Para código"
   ]
  },
  {
   "cell_type": "code",
   "execution_count": 2,
   "metadata": {},
   "outputs": [
    {
     "name": "stdout",
     "output_type": "stream",
     "text": [
      "Hola mundo!\n"
     ]
    }
   ],
   "source": [
    "print(\"Hola mundo!\")"
   ]
  },
  {
   "cell_type": "markdown",
   "metadata": {},
   "source": [
    "#### Para markdown"
   ]
  },
  {
   "cell_type": "markdown",
   "metadata": {},
   "source": [
    "This is markdown!\n",
    "\n",
    "---\n",
    "\n",
    "# h1 Heading \n",
    "## h2 Heading\n",
    "### h3 Heading\n",
    "#### h4 Heading\n",
    "\n",
    "## Emphasis\n",
    "\n",
    "**This is bold text**\n",
    "\n",
    "*This is italic text*\n",
    "\n",
    "~~Strikethrough~~\n",
    "\n",
    "... "
   ]
  },
  {
   "cell_type": "markdown",
   "metadata": {},
   "source": [
    "### Comandos y Shortcuts\n",
    "\n",
    "Estos comandos solo se pueden utilizar en el modo comando, es decir cuando no estamos editando una celda.\n",
    "\n",
    "* Entrar en modo edición: doble clic en celda\n",
    "* Crear nueva celda arriba: __A__\n",
    "* Crear nueva celda abajo: __B__\n",
    "* Eliminar celda: __D,D__\n",
    "* Cambiar modo celda a  Markdown: __M__\n",
    "* Cambiar modo celda a Código: __Y__\n",
    "* Desplazarce por el documento: Flechas direccionales\n",
    "* Cortar: __X__\n",
    "* Copiar: __C__\n",
    "* Cortar: __V__ o __shift + V__\n",
    "* Guardar: __S__\n",
    "\n",
    "Estos son para el modo edición.\n",
    "\n",
    "* Salir modo edición: __esc__\n",
    "* Ejecutar celda: __ctrl + enter__\n",
    "* Ejecutar celda y avanzar: __shift + enter__\n"
   ]
  },
  {
   "cell_type": "markdown",
   "metadata": {},
   "source": [
    "## Demo\n",
    "\n",
    "Entrando a siguiente [link](https://mybinder.org/v2/gh/jupyterlab/jupyterlab-demo/master?urlpath=lab%2Ftree%2Fdemo%2FLorenz.ipynb) podemos ver algunos demostraciones de lo que se puede hacer con un jupyter notebook."
   ]
  },
  {
   "cell_type": "code",
   "execution_count": null,
   "metadata": {},
   "outputs": [],
   "source": []
  }
 ],
 "metadata": {
  "kernelspec": {
   "display_name": "Python 3",
   "language": "python",
   "name": "python3"
  },
  "language_info": {
   "codemirror_mode": {
    "name": "ipython",
    "version": 3
   },
   "file_extension": ".py",
   "mimetype": "text/x-python",
   "name": "python",
   "nbconvert_exporter": "python",
   "pygments_lexer": "ipython3",
   "version": "3.6.4"
  }
 },
 "nbformat": 4,
 "nbformat_minor": 2
}
