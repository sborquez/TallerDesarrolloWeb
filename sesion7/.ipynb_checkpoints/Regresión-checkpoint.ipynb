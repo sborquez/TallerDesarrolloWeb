{
 "cells": [
  {
   "cell_type": "markdown",
   "metadata": {},
   "source": [
    "# Regresión lineal\n",
    "\n",
    "La regresión lineal es un algoritmo de aprendizaje supervisado que se utiliza en Machine Learning y en estadística. En su versión más sencilla, lo que haremos es “dibujar una recta” que nos indicará la tendencia de un conjunto de datos continuos.\n",
    "\n",
    "Su objetivo generar la mejor aproximación y modelar la relación entre una variable escalar dependiente “y” y una variable explicativas nombradas con “X”.\n",
    "\n",
    "Este modelo puede ser expresado como:\n",
    "\n",
    "$$Y_i = \\beta_0 + \\beta_1 X_i$$ \n",
    "\n",
    "Donde:\n",
    "* $Y_i$: Variable dependiente\n",
    "* $X_i$: VAriable independiente\n",
    "* $\\beta_0 y \\beta1$: parámetros del modelo.\n",
    "\n",
    "## sklearn\n",
    "\n",
    "Para todos los modelos usaremos el módulo _sklearn_, este posee una gran variedad de modelos ya implementados. \n",
    "\n",
    "La siguiente imágen es un mapa que contiene algunos de los modelos incluidos en el módulo además de ser una guía para la selección de modelos.\n",
    "\n",
    "<img src=\"http://scikit-learn.org/stable/_static/ml_map.png\" height=750px width=750px>"
   ]
  },
  {
   "cell_type": "code",
   "execution_count": null,
   "metadata": {},
   "outputs": [],
   "source": [
    "import matplotlib.pyplot as plt\n",
    "import numpy as np\n",
    "from sklearn import datasets, linear_model\n",
    "from sklearn.metrics import mean_squared_error, r2_score"
   ]
  },
  {
   "cell_type": "markdown",
   "metadata": {},
   "source": [
    "## Ejemplo simple\n",
    "\n",
    "Usaremos los siguientes datos para entrenar a un módelo.\n",
    "\n",
    "$$ X = [ -5, -4, -3, -2, -1, 0, 1, 2, 3, 4, 5 ] $$\n",
    "$$ Y = [ 1, 5, 4, 7, 10, 8, 9, 13, 14, 13, 18 ] $$\n",
    "\n",
    "A simple vista se puede apreciar su tendencia lineal\n"
   ]
  },
  {
   "cell_type": "code",
   "execution_count": null,
   "metadata": {},
   "outputs": [],
   "source": [
    "#Preparamos los datos\n",
    "\n",
    "data_x = np.array([ -5, -4, -3, -2, -1, 0, 1, 2, 3, 4, 5 ]).reshape(-1, 1)\n",
    "data_y = np.array([ 1, 5, 4, 7, 10, 8, 9, 13, 14, 13, 18 ])\n",
    "\n",
    "plt.scatter(data_x, data_y,  color='red');"
   ]
  },
  {
   "cell_type": "code",
   "execution_count": null,
   "metadata": {},
   "outputs": [],
   "source": [
    "# Cargamos el modelo\n",
    "regr = linear_model.LinearRegression()\n",
    "\n",
    "# Entrenamiento\n",
    "regr.fit(data_x, data_y)\n",
    "\n",
    "# Los resultados\n",
    "print('Parámetos beta: \\n', regr.intercept_, regr.coef_[0])"
   ]
  },
  {
   "cell_type": "code",
   "execution_count": null,
   "metadata": {},
   "outputs": [],
   "source": [
    "# Nuevas entradas para predecir\n",
    "test_x = np.array([ -6,  -3.5, -1.5, 1,  3, 4.5 ]).reshape(-1, 1)\n",
    "test_y = np.array([ 2,  6, 8, 9,  14, 15 ])\n",
    "\n",
    "# Luego de entrenar podemos predecir\n",
    "pred_y = regr.predict(test_x)\n",
    "\n",
    "\n",
    "# Metrica para la regresión\n",
    "print(\"Error cuadrado: %.2f\"\n",
    "      % mean_squared_error(test_y, pred_y))\n",
    "print('r2: %.2f' % r2_score(test_y, pred_y))\n",
    "\n",
    "# Plots\n",
    "plt.scatter(test_x, test_y,  color='blue')\n",
    "\n",
    "plt.plot(test_x, pred_y, color='green', linewidth=3)\n",
    "\n",
    "\n",
    "plt.show()"
   ]
  },
  {
   "cell_type": "markdown",
   "metadata": {},
   "source": [
    "## Usando datos reales\n",
    "\n",
    "A continuación usaremos los datos de progresión de la enferdad contra diferentes variables como edad, sexo, indice de masa muscular, presión sanguinea y seis mediciones de suero sanguineo. "
   ]
  },
  {
   "cell_type": "code",
   "execution_count": null,
   "metadata": {},
   "outputs": [],
   "source": [
    "diabetes = datasets.load_diabetes()\n",
    "print(diabetes.DESCR)"
   ]
  },
  {
   "cell_type": "code",
   "execution_count": null,
   "metadata": {},
   "outputs": [],
   "source": [
    "# Preparamos los datos\n",
    "# Usamos solo la primera variable\n",
    "diabetes_X = diabetes.data[:, np.newaxis, 2]\n",
    "\n",
    "# Dividimos los datos para entrenar y probar nuestro modelo\n",
    "diabetes_X_train = diabetes_X[:-20]\n",
    "diabetes_X_test = diabetes_X[-20:]\n",
    "\n",
    "diabetes_y_train = diabetes.target[:-20]\n",
    "diabetes_y_test = diabetes.target[-20:]"
   ]
  },
  {
   "cell_type": "markdown",
   "metadata": {},
   "source": [
    "### Regresión"
   ]
  },
  {
   "cell_type": "code",
   "execution_count": null,
   "metadata": {},
   "outputs": [],
   "source": [
    "#Respuestas en diabetes_y_pred"
   ]
  },
  {
   "cell_type": "code",
   "execution_count": null,
   "metadata": {},
   "outputs": [],
   "source": [
    "# Los resultados\n",
    "print('Parámetos beta: \\n', regr.intercept_, regr.coef_[0])\n",
    "\n",
    "# Metrica para la regresión\n",
    "print(\"Error cuadrado: %.2f\"\n",
    "      % mean_squared_error(diabetes_y_test, diabetes_y_pred))\n",
    "print('r2: %.2f' % r2_score(diabetes_y_test, diabetes_y_pred))\n",
    "\n",
    "# Plots\n",
    "plt.scatter(diabetes_X_test, diabetes_y_test,  color='red')\n",
    "plt.plot(diabetes_X_test, diabetes_y_pred, color='green', linewidth=3)\n",
    "\n",
    "\n",
    "plt.show()"
   ]
  },
  {
   "cell_type": "markdown",
   "metadata": {},
   "source": [
    "Ahora intente realizar una regresión lineal para otro atributo de los datos y compare los errores"
   ]
  },
  {
   "cell_type": "code",
   "execution_count": null,
   "metadata": {},
   "outputs": [],
   "source": []
  }
 ],
 "metadata": {
  "kernelspec": {
   "display_name": "Python 3",
   "language": "python",
   "name": "python3"
  },
  "language_info": {
   "codemirror_mode": {
    "name": "ipython",
    "version": 3
   },
   "file_extension": ".py",
   "mimetype": "text/x-python",
   "name": "python",
   "nbconvert_exporter": "python",
   "pygments_lexer": "ipython3",
   "version": "3.6.4"
  }
 },
 "nbformat": 4,
 "nbformat_minor": 2
}
