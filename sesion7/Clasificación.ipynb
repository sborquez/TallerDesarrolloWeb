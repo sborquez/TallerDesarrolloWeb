{
 "cells": [
  {
   "cell_type": "markdown",
   "metadata": {},
   "source": [
    "# Clasificación\n",
    "\n",
    "Por otro lado tenemos los modelos para clasificar entradas, se quiere categirizar una nueva entrada _i_ dependiendo de susu caracterisitcas _x_ y para clasificarlo en alguna clase _C_.\n",
    "\n",
    "El algoritmo que utilizaremos en esta oportunidad es _k-nearest neighbors algorithm (KNN)_ el cual consiste en determinar la clase de una nueva entrada dependiendo de la _similitud_ que posee con las demás entradas conocidas. Como se muestra en el siguiente ejemplo:\n",
    "\n",
    "<img src=\"https://upload.wikimedia.org/wikipedia/commons/thumb/e/e7/KnnClassification.svg/330px-KnnClassification.svg.png\" height=250px width=250px>"
   ]
  },
  {
   "cell_type": "code",
   "execution_count": null,
   "metadata": {},
   "outputs": [],
   "source": [
    "import matplotlib.pyplot as plt\n",
    "import numpy as np\n",
    "from sklearn import datasets, neighbors\n",
    "from sklearn.metrics import mean_squared_error, r2_score\n",
    "\n",
    "%matplotlib inline"
   ]
  },
  {
   "cell_type": "markdown",
   "metadata": {},
   "source": [
    "## Ejemplo\n",
    "\n",
    "Supongamos tenemos dos atributos instancias en un vector X, estas se clasifican en dos clases $C_0$ y $C_1$, donde el vector Y continene la clase correspondiente a cada instancia de X.\n",
    "\n",
    "\n",
    "$$ X = [ [0, -1], [2, 2], [-1, 0], [1, 2], [2, 3], [-1,-2] ]$$\n",
    "$$ Y = [ 0, 1, 0, 1, 1, 0 ] $$\n",
    "\n",
    "A simple vista se puede apreciar un agrupamiento por clase"
   ]
  },
  {
   "cell_type": "code",
   "execution_count": null,
   "metadata": {},
   "outputs": [],
   "source": [
    "x = np.array([ [0, -1], [2, 2], [-1, 0], [1, 2], [2, 3], [-1,-2] ])\n",
    "y = np.array([ 0, 1, 0, 1, 1, 0 ])\n",
    "plt.scatter(x[:,0][y == 0], x[:,1][y == 0]);\n",
    "plt.scatter(x[:,0][y == 1], x[:,1][y == 1]);"
   ]
  },
  {
   "cell_type": "code",
   "execution_count": null,
   "metadata": {},
   "outputs": [],
   "source": [
    "#Instanciamos nuestro modelo\n",
    "neigh = neighbors.KNeighborsClassifier(n_neighbors=3)\n",
    "\n",
    "#Entrenamos\n",
    "neigh.fit(x, y)\n",
    "\n",
    "#Datos de prueba\n",
    "test_x = [[1,1],[-1,0]]\n",
    "test_y = [1,0]\n",
    "\n",
    "#Predecimos\n",
    "pred_y = neigh.predict(test_x)\n",
    "\n",
    "print(\"Error cuadrado: %.2f\"\n",
    "      % mean_squared_error(test_y, pred_y))\n",
    "print('r2: %.2f' % r2_score(test_y, pred_y))\n"
   ]
  },
  {
   "cell_type": "markdown",
   "metadata": {},
   "source": [
    "## Usando datos reales\n",
    "\n",
    "A continuación usaremos el set de datos _iris_ el cual contiene los datos de 3 clases de plantas, nos dan 4 atributos de cada planta y debemos predecir a que especie pertenece."
   ]
  },
  {
   "cell_type": "code",
   "execution_count": null,
   "metadata": {},
   "outputs": [],
   "source": [
    "iris = datasets.load_iris()\n",
    "print(iris.DESCR)"
   ]
  },
  {
   "cell_type": "code",
   "execution_count": null,
   "metadata": {},
   "outputs": [],
   "source": [
    "# Preparando los datos, en este caso solo usaremos los dos primeros atributos\n",
    "iris_x_train = iris.data[:-20, :2]\n",
    "iris_y_train = iris.target[:-20]\n",
    "\n",
    "iris_x_test = iris.data[-20:, :2]\n",
    "iris_y_test = iris.target[-20:]\n",
    "\n",
    "# Plots\n",
    "plt.scatter(iris_x_train[:,0][iris_y_train == 0], iris_x_train[:,1][iris_y_train == 0]);\n",
    "plt.scatter(iris_x_train[:,0][iris_y_train == 1], iris_x_train[:,1][iris_y_train == 1]);\n",
    "plt.scatter(iris_x_train[:,0][iris_y_train == 2], iris_x_train[:,1][iris_y_train == 2]);\n",
    "\n",
    "plt.show()"
   ]
  },
  {
   "cell_type": "markdown",
   "metadata": {},
   "source": [
    "### Clasificación\n"
   ]
  },
  {
   "cell_type": "code",
   "execution_count": null,
   "metadata": {},
   "outputs": [],
   "source": [
    "# Guardar resultados en iris_y_pred"
   ]
  },
  {
   "cell_type": "code",
   "execution_count": null,
   "metadata": {},
   "outputs": [],
   "source": [
    "# Resultados\n",
    "# Metrica para la regresión\n",
    "print(\"Error cuadrado: %.2f\"\n",
    "      % mean_squared_error(iris_y_test, iris_y_pred))\n",
    "print('r2: %.2f' % r2_score(iris_y_test, iris_y_pred))\n",
    "\n",
    "plt.scatter(iris_x_test[:,0][iris_y_pred == 0], iris_x_test[:,1][iris_y_pred == 0]);\n",
    "plt.scatter(iris_x_test[:,0][iris_y_pred == 1], iris_x_test[:,1][iris_y_pred == 1]);\n",
    "plt.scatter(iris_x_test[:,0][iris_y_pred == 2], iris_x_test[:,1][iris_y_pred == 2]);"
   ]
  },
  {
   "cell_type": "markdown",
   "metadata": {},
   "source": [
    "Pruebe cambiando la cantidad de vecinos para m y eligiendo otros atributos para determinar la clase."
   ]
  },
  {
   "cell_type": "code",
   "execution_count": null,
   "metadata": {},
   "outputs": [],
   "source": []
  },
  {
   "cell_type": "markdown",
   "metadata": {},
   "source": [
    "## Clasificar números escritos a mano\n",
    "\n",
    "Utilive KNN para determinar el número escrito utilizando el siguiente set de datos"
   ]
  },
  {
   "cell_type": "code",
   "execution_count": null,
   "metadata": {},
   "outputs": [],
   "source": [
    "digits = datasets.load_digits()\n",
    "print(digits.DESCR)"
   ]
  },
  {
   "cell_type": "code",
   "execution_count": null,
   "metadata": {},
   "outputs": [],
   "source": [
    "images_and_labels = list(zip(digits.images, digits.target))\n",
    "for index, (image, label) in enumerate(images_and_labels[:4]):\n",
    "    plt.subplot(2, 4, index + 1)\n",
    "    plt.axis('off')\n",
    "    plt.imshow(image, cmap=plt.cm.gray_r, interpolation='nearest')\n",
    "    plt.title('Training: %i' % label)\n",
    "\n",
    "# turn the data in a (samples, feature) matrix:\n",
    "n_samples = len(digits.images)\n",
    "data = digits.images.reshape((n_samples, -1))\n",
    "\n",
    "digits_x_train, digits_y_train = data[:n_samples // 2], digits.target[:n_samples // 2]\n",
    "\n",
    "digits_x_test, digits_y_test = data[n_samples // 2:], digits.target[n_samples // 2:]\n"
   ]
  },
  {
   "cell_type": "code",
   "execution_count": null,
   "metadata": {},
   "outputs": [],
   "source": []
  }
 ],
 "metadata": {
  "kernelspec": {
   "display_name": "Python 3",
   "language": "python",
   "name": "python3"
  },
  "language_info": {
   "codemirror_mode": {
    "name": "ipython",
    "version": 3
   },
   "file_extension": ".py",
   "mimetype": "text/x-python",
   "name": "python",
   "nbconvert_exporter": "python",
   "pygments_lexer": "ipython3",
   "version": "3.6.4"
  }
 },
 "nbformat": 4,
 "nbformat_minor": 2
}
